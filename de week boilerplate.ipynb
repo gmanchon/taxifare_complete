{
 "cells": [
  {
   "cell_type": "markdown",
   "metadata": {
    "heading_collapsed": true
   },
   "source": [
    "# Running the code locally"
   ]
  },
  {
   "cell_type": "markdown",
   "metadata": {
    "heading_collapsed": true,
    "hidden": true
   },
   "source": [
    "## Trainer + Prediction API\n",
    "\n",
    "### Train the model\n",
    "\n",
    "``` bash\n",
    "make run_locally\n",
    "```\n",
    "\n",
    "should create a model.joblib stored on the machine\n",
    "\n",
    "### Start the API locally\n",
    "\n",
    "``` bash\n",
    "make run_api\n",
    "```\n",
    "\n",
    "Then go to the root entry point http://127.0.0.1:5000/\n",
    "\n",
    "Generate an error with the prediction entry point without params http://127.0.0.1:5000/predict_fare\n",
    "\n",
    "Call the API properlly with all parameters using the \"api test notebook.ipynb\" in the notebooks directory\n",
    "\n",
    "## Website\n",
    "\n",
    "### Start the website locally\n",
    "\n",
    "Start the web server serving your website\n",
    "\n",
    "``` bash\n",
    "make run_website\n",
    "```\n",
    "\n",
    "Then go to http://localhost:8501\n",
    "\n",
    "The prediction may take a while to be visible since the Prediction API targeted by the URL is hosted on Heroku and is probably sleeping\n",
    "\n",
    "You may change the URL so the the website asks a prediction from your API"
   ]
  },
  {
   "cell_type": "markdown",
   "metadata": {
    "heading_collapsed": true
   },
   "source": [
    "# Running the code in the cloud"
   ]
  },
  {
   "cell_type": "markdown",
   "metadata": {
    "hidden": true
   },
   "source": [
    "## Trainer + Prediction API\n",
    "\n",
    "### Train the model on AI Platform\n",
    "\n",
    "You should probably replace in params.py the name of the bucket and make sure that you have a csv with the proper name at the proper location in your bucket:\n",
    "* BUCKET_NAME = 'le-wagon-data'\n",
    "* BUCKET_TRAIN_DATA_PATH = 'data/data_train_1k.csv'\n",
    "\n",
    "Also in the Makefile:\n",
    "* BUCKET_NAME=le-wagon-data\n",
    "\n",
    "\n",
    "You can change the experiment name\n",
    "* experiment_name = \"[DE] [Berlin] [gmanchon] minimalistic trainer\"\n",
    "\n",
    "``` bash\n",
    "make make gcp_submit_training\n",
    "```\n",
    "\n",
    "Then go https://console.cloud.google.com in order to verify that the job completed successfully and that your bucket contains the model.joblib"
   ]
  },
  {
   "cell_type": "markdown",
   "metadata": {
    "hidden": true
   },
   "source": [
    "### Deploy the API on Heroku\n",
    "\n",
    "\n",
    "``` bash\n",
    "git init\n",
    "git add .\n",
    "git commit -m 'initial commit'\n",
    "heroku create pred-api-492 --region eu\n",
    "heroku ps:scale web=1\n",
    "git push heroku master\n",
    "```\n",
    "\n",
    "Then go to the root entry point https://pred-api-492.herokuapp.com/\n",
    "\n",
    "Generate an error with the prediction entry point without params https://pred-api-492.herokuapp.com/predict_fare\n",
    "\n",
    "Call the API properlly with all parameters using the \"api test notebook.ipynb\" in the notebooks directory\n",
    "\n",
    "Note: I encountered a weird error on prod which was fixed by fixing in the requirements.txt the versions of numpy==1.18.5 and scikit-learn==0.22. The fact that the error occured on my machine only was an indication that the version of the packages could be an issue. I retrieved the versions of my machine using `pip freeze G scikit`\n",
    "\n",
    "## Website\n",
    "\n",
    "### Deploy the website on Heroku\n",
    "\n",
    "``` bash\n",
    "git init\n",
    "git add .\n",
    "git commit -m 'initial commit'\n",
    "heroku create website-492 --region eu\n",
    "heroku ps:scale web=1\n",
    "git push heroku master\n",
    "```\n",
    "\n",
    "Then go to https://website-492.herokuapp.com/\n",
    "\n",
    "The prediction may take a while to be visible since the Prediction API targeted by the URL is hosted on Heroku and is probably sleeping\n",
    "\n",
    "\n",
    "You may change the URL so the the website asks a prediction from your API"
   ]
  },
  {
   "cell_type": "markdown",
   "metadata": {
    "heading_collapsed": true
   },
   "source": [
    "# Workflow"
   ]
  },
  {
   "cell_type": "markdown",
   "metadata": {
    "hidden": true
   },
   "source": [
    "\n",
    "## gather some data\n",
    "\n",
    "* access to several databases\n",
    "* use open data\n",
    "* use API & scraping\n",
    "* ask your developper team for more data\n",
    "\n",
    "## explore the data using a notebook\n",
    "\n",
    "* clean the data\n",
    "* do some exploratory dataviz\n",
    "* use git as soon as possible (save your work)\n",
    "\n",
    "## start to work with a notebook + a package\n",
    "\n",
    "* start to package your code in python files\n",
    "* working on a package allows to collaborate with teammates easier than a notebook\n",
    "* using git allows to see code changes easier on python files than on a notebook (because of the json format and because the state of the cells is saved along their content)\n",
    "* call your package from the notebook (on your machine using `pip install -e .`)\n",
    "\n",
    "## start to do some training\n",
    "\n",
    "* maybe train your first models on google colab, up to 10h\n",
    "* either with all the code in the notebook (downside: no package for collaboration + code organisation/visibility + production deployment)\n",
    "* or importing your package\n",
    "  * option 1:\n",
    "    * put your code on google drive + let the google drive app do its sync magic + import your code it from the notebook\n",
    "    * nice in theory but I have not tested this option\n",
    "  * option 2:\n",
    "    * import the code from the notebook using `pip install git+https://github.com/yourlogin/yourepo`\n",
    "    * more cumbersome : you need to push your code to github each time you modify it (but since you are performing a training it makes sense to save the code)\n",
    "\n",
    "## do some serious training\n",
    "\n",
    "* if you require more cpu or ram\n",
    "* move your training code from the notebook to the package\n",
    "* use the wagon-make-package-tool to generate the project\n",
    "* or start from a data science project template from github\n",
    "* use the AI Platform\n",
    "\n",
    "## now you have a model\n",
    "\n",
    "* or more models, and you stored the params used in order to train them and the performance metrics in MLFlow\n",
    "\n",
    "## deploy your model to production\n",
    "\n",
    "* first option : you only want to target internet users\n",
    "* create a Website that will load your model\n",
    "* if your package is small enough (500Mo), use Heroku that is so simple to use\n",
    "* if not, use Google Cloud Run (the TAs will help you during the project week)\n",
    "\n",
    "\n",
    "\n",
    "* second option: you only developer from other companies as users\n",
    "* create a Prediction API\n",
    "* deploy Heroku if package is small enough\n",
    "* Google Cloud Run otherwise\n",
    "\n",
    "\n",
    "* third option: you want to target both developers and internet users\n",
    "* we suggest you split the projects\n",
    "* Prediction API is deployed on Heroku if small enough or GCR\n",
    "* Website calls the Prediction API and is deployed on Heroku\n",
    "\n",
    "\n",
    "* fouth option: you target both developers and users\n",
    "* but you want your user experience to be as smooth as possible\n",
    "* the website and the prediction api both load the model and are deployed on Heroku or GCR"
   ]
  },
  {
   "cell_type": "markdown",
   "metadata": {
    "heading_collapsed": true
   },
   "source": [
    "# Project 1 : Trainer + Prediction API"
   ]
  },
  {
   "cell_type": "markdown",
   "metadata": {
    "heading_collapsed": true,
    "hidden": true
   },
   "source": [
    "## Trainer"
   ]
  },
  {
   "cell_type": "markdown",
   "metadata": {
    "heading_collapsed": true,
    "hidden": true
   },
   "source": [
    "### .gitignore"
   ]
  },
  {
   "cell_type": "markdown",
   "metadata": {
    "hidden": true
   },
   "source": [
    "This file allows to list all the files that we do not want to store in git: all temporary files that do not convey any value for the project"
   ]
  },
  {
   "cell_type": "markdown",
   "metadata": {
    "hidden": true
   },
   "source": [
    "*/version.txt\n",
    "*.pyc\n",
    "*.swp\n",
    "build/\n",
    "dist/\n",
    ".coverage\n",
    ".ipynb_checkpoints\n",
    "*.iml\n",
    "groupama/data/base_pno.*\n",
    ".DS_Store\n",
    ".idea/\n",
    "mlruns\n",
    "*.egg-info\n"
   ]
  },
  {
   "cell_type": "markdown",
   "metadata": {
    "heading_collapsed": true,
    "hidden": true
   },
   "source": [
    "### Makefile"
   ]
  },
  {
   "cell_type": "markdown",
   "metadata": {
    "hidden": true
   },
   "source": [
    "This file contains directives that can help us in order to remember the commands to launch in the command line"
   ]
  },
  {
   "cell_type": "code",
   "execution_count": null,
   "metadata": {
    "hidden": true
   },
   "outputs": [],
   "source": [
    "\n",
    "install_requirements:\n",
    "\t@pip install -r requirements.txt\n",
    "\n",
    "test:\n",
    "\t@coverage run -m pytest tests/*.py\n",
    "\t@coverage report -m --omit=$(VIRTUAL_ENV)/lib/python*\n",
    "\n",
    "clean:\n",
    "\t@rm -f */version.txt\n",
    "\t@rm -f .coverage\n",
    "\t@rm -fr */__pycache__ */*.pyc __pycache__\n",
    "\t@rm -fr build dist\n",
    "\t@rm -fr MinTrainer-*.dist-info\n",
    "\t@rm -fr MinTrainer.egg-info\n",
    "\n",
    "install:\n",
    "\t@pip install . -U\n",
    "\n",
    "all: clean install test black check_code\n",
    "\n",
    "# ----------------------------------\n",
    "#      MODEL DIRECTIVES\n",
    "# ----------------------------------\n",
    "\n",
    "run_locally:\n",
    "\tpython -m MinTrainer.trainer\n",
    "\n",
    "# bucket\n",
    "BUCKET_NAME=le-wagon-data\n",
    "\n",
    "# training folder\n",
    "BUCKET_TRAINING_FOLDER=trainings\n",
    "\n",
    "# training params\n",
    "REGION=europe-west1\n",
    "\n",
    "# app environment\n",
    "PYTHON_VERSION=3.7\n",
    "FRAMEWORK=scikit-learn\n",
    "RUNTIME_VERSION=2.2\n",
    "\n",
    "# package params\n",
    "PACKAGE_NAME=MinTrainer\n",
    "FILENAME=trainer\n",
    "\n",
    "# pred\n",
    "# PRED_FILENAME=predict\n",
    "\n",
    "##### Job - - - - - - - - - - - - - - - - - - - - - - - - -\n",
    "\n",
    "JOB_NAME=mintrainer_$(shell date +'%Y%m%d_%H%M%S')\n",
    "\n",
    "gcp_submit_training:\n",
    "\tgcloud ai-platform jobs submit training ${JOB_NAME} \\\n",
    "\t\t--job-dir gs://${BUCKET_NAME}/${BUCKET_TRAINING_FOLDER} \\\n",
    "\t\t--package-path ${PACKAGE_NAME} \\\n",
    "\t\t--module-name ${PACKAGE_NAME}.${FILENAME} \\\n",
    "\t\t--python-version=${PYTHON_VERSION} \\\n",
    "\t\t--runtime-version=${RUNTIME_VERSION} \\\n",
    "\t\t--region ${REGION} \\\n",
    "\t\t--stream-logs\n"
   ]
  },
  {
   "cell_type": "markdown",
   "metadata": {
    "heading_collapsed": true,
    "hidden": true
   },
   "source": [
    "### requirements.txt"
   ]
  },
  {
   "cell_type": "markdown",
   "metadata": {
    "hidden": true
   },
   "source": [
    "This file allows to install the packages required by the project, both for your teammates, and so that the AI Platform and Heroku install the packages required in order to run your app"
   ]
  },
  {
   "cell_type": "markdown",
   "metadata": {
    "hidden": true
   },
   "source": [
    "pip>=9\n",
    "setuptools>=26\n",
    "wheel>=0.29\n",
    "pandas\n",
    "pytest\n",
    "coverage\n",
    "flake8\n",
    "black\n",
    "yapf\n",
    "python-gitlab\n",
    "twine\n",
    "six>=1.13.0\n",
    "numpy\n",
    "pandas\n",
    "scikit-learn\n",
    "joblib\n",
    "memoized-property\n",
    "mlflow\n",
    "s3fs\n",
    "gcsfs\n",
    "google-cloud-storage\n",
    "termcolor\n"
   ]
  },
  {
   "cell_type": "markdown",
   "metadata": {
    "heading_collapsed": true,
    "hidden": true
   },
   "source": [
    "### setup.py"
   ]
  },
  {
   "cell_type": "markdown",
   "metadata": {
    "hidden": true
   },
   "source": [
    "This file instructs the AI Platform and Heroku how to install the package and its requirements"
   ]
  },
  {
   "cell_type": "markdown",
   "metadata": {
    "hidden": true
   },
   "source": [
    "from setuptools import find_packages\n",
    "from setuptools import setup\n",
    "\n",
    "with open('requirements.txt') as f:\n",
    "    content = f.readlines()\n",
    "requirements = [x.strip() for x in content if 'git+' not in x]\n",
    "\n",
    "setup(name='MinTrainer',\n",
    "      version=\"1.0\",\n",
    "      description=\"Project Description\",\n",
    "      packages=find_packages(),\n",
    "      test_suite='tests',\n",
    "      scripts=['scripts/MinTrainer-run'],\n",
    "      install_requires=requirements)\n"
   ]
  },
  {
   "cell_type": "markdown",
   "metadata": {
    "heading_collapsed": true,
    "hidden": true
   },
   "source": [
    "## Prediction API"
   ]
  },
  {
   "cell_type": "markdown",
   "metadata": {
    "heading_collapsed": true,
    "hidden": true
   },
   "source": [
    "### app.py"
   ]
  },
  {
   "cell_type": "markdown",
   "metadata": {
    "hidden": true
   },
   "source": [
    "This file contains the api served by the Flask server"
   ]
  },
  {
   "cell_type": "code",
   "execution_count": null,
   "metadata": {
    "hidden": true
   },
   "outputs": [],
   "source": [
    "\n",
    "from flask import Flask, escape, request\n",
    "\n",
    "import pandas as pd\n",
    "\n",
    "import joblib\n",
    "\n",
    "# create flask app\n",
    "app = Flask(__name__)\n",
    "\n",
    "\n",
    "@app.route('/')\n",
    "def hello():\n",
    "    # get param from http://127.0.0.1:5000/?name=value\n",
    "    name = request.args.get(\"name\", \"World\")\n",
    "    return f'Hello, {escape(name)}!'\n",
    "\n",
    "\n",
    "# @app.route('/toto')\n",
    "# def hello():\n",
    "#     return '''\n",
    "#     <!DOCTYPE>\n",
    "#     <html>\n",
    "#         <head>\n",
    "#             <title>My super page</title>\n",
    "#         </head>\n",
    "#         <body>\n",
    "#             <div>\n",
    "#                 This is a Le Wagon API site, please use rather the /predict_fare entry point\n",
    "#                 <img src=\"https://dwj199mwkel52.cloudfront.net/assets/core/home/coding-school-that-cares-alumni-025e665def0e2f5a9a539cd2f8762fedbd4c5074a725ebed08570a5bdacc45f7.jpg\">\n",
    "#             </div>\n",
    "#         </body>\n",
    "#     </html>\n",
    "#     '''\n",
    "\n",
    "\n",
    "@app.route('/predict_fare', methods=['GET'])\n",
    "def predict_fare():\n",
    "\n",
    "    # get request arguments\n",
    "    key = request.args.get('key')\n",
    "    pickup_datetime = request.args.get('pickup_datetime')\n",
    "    pickup_longitude = float(request.args.get('pickup_longitude'))\n",
    "    pickup_latitude = float(request.args.get('pickup_latitude'))\n",
    "    dropoff_longitude = float(request.args.get('dropoff_longitude'))\n",
    "    dropoff_latitude = float(request.args.get('dropoff_latitude'))\n",
    "    passenger_count = int(request.args.get('passenger_count'))\n",
    "\n",
    "    # build X ⚠️ beware to the order of the parameters ⚠️\n",
    "    X = pd.DataFrame({\n",
    "        \"Unnamed: 0\": [0],  # These are not used by the model\n",
    "        \"key\": [key],  # but they are required by the pipeline as it is coded\n",
    "        \"pickup_datetime\": [pickup_datetime],\n",
    "        \"pickup_longitude\": [pickup_longitude],\n",
    "        \"pickup_latitude\": [pickup_latitude],\n",
    "        \"dropoff_longitude\": [dropoff_longitude],\n",
    "        \"dropoff_latitude\": [dropoff_latitude],\n",
    "        \"passenger_count\": [passenger_count]})\n",
    "\n",
    "    # print(X_test.dtypes)\n",
    "\n",
    "    # TODO: get model from GCP\n",
    "\n",
    "    # pipeline = get_model_from_gcp()\n",
    "    pipeline = joblib.load('model.joblib')\n",
    "\n",
    "    # make prediction\n",
    "    results = pipeline.predict(X)\n",
    "\n",
    "    # convert response from numpy to python type\n",
    "    pred = float(results[0])\n",
    "\n",
    "    return dict(\n",
    "        prediction=pred)\n",
    "\n",
    "\n",
    "if __name__ == '__main__':\n",
    "    app.run(host='127.0.0.1', port=5000, debug=True)\n"
   ]
  },
  {
   "cell_type": "markdown",
   "metadata": {
    "heading_collapsed": true,
    "hidden": true
   },
   "source": [
    "### api_test.py"
   ]
  },
  {
   "cell_type": "markdown",
   "metadata": {
    "hidden": true
   },
   "source": [
    "This code can be place in a notebook or executed from the command line and allows to test the api"
   ]
  },
  {
   "cell_type": "code",
   "execution_count": null,
   "metadata": {
    "hidden": true
   },
   "outputs": [],
   "source": [
    "import requests\n",
    "\n",
    "url = \"http://127.0.0.1:5000/predict_fare\"\n",
    "# url = \"https://pred-492.herokuapp.com/predict_fare\"\n",
    "\n",
    "params = dict(\n",
    "    key=\"2012-10-06%2012:10:20.0000001\",  # this is unused by the model\n",
    "    pickup_datetime=\"2012-10-06 12:10:20 UTC\",\n",
    "    pickup_longitude=40.7614327,\n",
    "    pickup_latitude=-73.9798156,\n",
    "    dropoff_longitude=40.6513111,\n",
    "    dropoff_latitude=-73.8803331,\n",
    "    \n",
    "    passenger_count=2)\n",
    "\n",
    "requests.get(url, params=params).json()\n"
   ]
  },
  {
   "cell_type": "markdown",
   "metadata": {
    "heading_collapsed": true,
    "hidden": true
   },
   "source": [
    "### Procfile"
   ]
  },
  {
   "cell_type": "markdown",
   "metadata": {
    "hidden": true
   },
   "source": [
    "This file allows to tell Heroku what command to run in order to start our Flask server running the API"
   ]
  },
  {
   "cell_type": "markdown",
   "metadata": {
    "hidden": true
   },
   "source": [
    "web: python -m flask run --host=0.0.0.0 --port $PORT\n"
   ]
  },
  {
   "cell_type": "markdown",
   "metadata": {
    "heading_collapsed": true
   },
   "source": [
    "# Project 2 : Website using prediction API"
   ]
  },
  {
   "cell_type": "markdown",
   "metadata": {
    "heading_collapsed": true,
    "hidden": true
   },
   "source": [
    "## Prediction website"
   ]
  },
  {
   "cell_type": "markdown",
   "metadata": {
    "heading_collapsed": true,
    "hidden": true
   },
   "source": [
    "### app.py"
   ]
  },
  {
   "cell_type": "markdown",
   "metadata": {
    "hidden": true
   },
   "source": [
    "This is the entry point of the project, which is ran by streamlit in order to run the website"
   ]
  },
  {
   "cell_type": "code",
   "execution_count": null,
   "metadata": {
    "hidden": true
   },
   "outputs": [],
   "source": [
    "\n",
    "import streamlit as st\n",
    "\n",
    "import requests\n",
    "\n",
    "import datetime\n",
    "\n",
    "# retrieve prediction parameters\n",
    "\n",
    "\"# Manhattan ride parameters\"\n",
    "\n",
    "\"Select a date and time\"\n",
    "\n",
    "date = st.date_input(\"Select a pickup date\", datetime.date(2012, 10, 6))\n",
    "\n",
    "time = st.time_input(\"Select a pickup time\", datetime.time(8, 45))\n",
    "\n",
    "pickup_datetime = f\"{date} {time} UTC\"  # \"2012-10-06%2012:10:20%20UTC\"\n",
    "\n",
    "\"Select a pickup location\"\n",
    "\n",
    "pickup_longitude = st.number_input(\"Pickup longitude\", value=40.7614327)\n",
    "pickup_latitude = st.number_input(\"Pickup latitude\", value=-73.9798156)\n",
    "\n",
    "\"Select a dropoff location\"\n",
    "\n",
    "dropoff_longitude = st.number_input(\"Dropoff longitude\", value=40.6513111)\n",
    "dropoff_latitude = st.number_input(\"Dropoff latitude\", value=-73.8803331)\n",
    "\n",
    "\"Select a passenger count\"\n",
    "\n",
    "passenger_count = st.slider(\"Passenger count\", 1, 10, 3)\n",
    "\n",
    "# request prediction from api\n",
    "\n",
    "url = \"https://taxifaremodelapi.herokuapp.com/predict_fare\"\n",
    "\n",
    "params = dict(\n",
    "    key=\"2012-10-06%2012:10:20.0000001\",  # this is unused by the model\n",
    "    pickup_datetime=pickup_datetime,\n",
    "    pickup_longitude=pickup_longitude,\n",
    "    pickup_latitude=pickup_latitude,\n",
    "    dropoff_longitude=dropoff_longitude,\n",
    "    dropoff_latitude=dropoff_latitude,\n",
    "    passenger_count=passenger_count)\n",
    "\n",
    "response = requests.get(url, params=params).json()\n",
    "\n",
    "prediction = response['prediction']\n",
    "\n",
    "# display response to user\n",
    "\n",
    "f\"Predicted ride cost: {prediction}\"\n"
   ]
  },
  {
   "cell_type": "markdown",
   "metadata": {
    "heading_collapsed": true,
    "hidden": true
   },
   "source": [
    "### Makefile"
   ]
  },
  {
   "cell_type": "markdown",
   "metadata": {
    "hidden": true
   },
   "source": [
    "This file lists directive that you can run from the command line, for example `make run_website` which launches the web server serving your website"
   ]
  },
  {
   "cell_type": "markdown",
   "metadata": {
    "hidden": true
   },
   "source": [
    "\n",
    "run_website:\n",
    "\tstreamlit run app.py\n"
   ]
  },
  {
   "cell_type": "markdown",
   "metadata": {
    "heading_collapsed": true,
    "hidden": true
   },
   "source": [
    "### MANIFEST.in"
   ]
  },
  {
   "cell_type": "markdown",
   "metadata": {
    "hidden": true
   },
   "source": [
    "This file makes sure list the files that will be include in the package along with all the .py files once it is received by Heroku"
   ]
  },
  {
   "cell_type": "markdown",
   "metadata": {
    "hidden": true
   },
   "source": [
    "include requirements.txt\n"
   ]
  },
  {
   "cell_type": "markdown",
   "metadata": {
    "heading_collapsed": true,
    "hidden": true
   },
   "source": [
    "### Procfile"
   ]
  },
  {
   "cell_type": "markdown",
   "metadata": {
    "hidden": true
   },
   "source": [
    "This file tells Heroku what command to run in order to run your project\n",
    "Here we run both setup.sh and the streamlit in order to start the web server serving your website to users"
   ]
  },
  {
   "cell_type": "markdown",
   "metadata": {
    "hidden": true
   },
   "source": [
    "web: sh setup.sh && streamlit run app.py\n"
   ]
  },
  {
   "cell_type": "markdown",
   "metadata": {
    "heading_collapsed": true,
    "hidden": true
   },
   "source": [
    "### README.md"
   ]
  },
  {
   "cell_type": "markdown",
   "metadata": {
    "hidden": true
   },
   "source": [
    "This is just an informative file used by GitHub in order to display information about your project"
   ]
  },
  {
   "cell_type": "code",
   "execution_count": null,
   "metadata": {
    "hidden": true
   },
   "outputs": [],
   "source": [
    "# Usage\n",
    "\n",
    "``` bash\n",
    "make run_website              # launch website\n",
    "streamlit run app.py          # launch website\n",
    "```"
   ]
  },
  {
   "cell_type": "markdown",
   "metadata": {
    "heading_collapsed": true,
    "hidden": true
   },
   "source": [
    "### requirements.txt"
   ]
  },
  {
   "cell_type": "markdown",
   "metadata": {
    "hidden": true
   },
   "source": [
    "This file lists the package required in order to run the project\n",
    "Your teammates can `pip install -r requirements.txt` in order to install all the packages when they clone your project\n",
    "This file is also used by setup.py in order to install all the package on Heroku"
   ]
  },
  {
   "cell_type": "markdown",
   "metadata": {
    "hidden": true
   },
   "source": [
    "streamlit\n",
    "requests\n",
    "datetime\n"
   ]
  },
  {
   "cell_type": "markdown",
   "metadata": {
    "heading_collapsed": true,
    "hidden": true
   },
   "source": [
    "### setup.py"
   ]
  },
  {
   "cell_type": "markdown",
   "metadata": {
    "hidden": true
   },
   "source": [
    "This file is used by Heroku in order to install the package\n",
    "The file will list the contents of requirements.txt and install each included package\n",
    "It will also make sure that the files listed in MANIFEST.in are included in the delivered package, otherwise only .py files will be included"
   ]
  },
  {
   "cell_type": "markdown",
   "metadata": {
    "hidden": true
   },
   "source": [
    "from setuptools import setup, find_packages\n",
    "\n",
    "with open(\"requirements.txt\") as f:\n",
    "    content = f.readlines()\n",
    "requirements = [x.strip() for x in content]\n",
    "\n",
    "setup(name=\"taxifare prediction website\",\n",
    "      version=\"1.0\",\n",
    "      description=\"package description\",\n",
    "      packages=find_packages(),\n",
    "      include_package_data=True,  # includes in package files from MANIFEST.in\n",
    "      install_requires=requirements)\n"
   ]
  },
  {
   "cell_type": "markdown",
   "metadata": {
    "heading_collapsed": true,
    "hidden": true
   },
   "source": [
    "### setup.sh"
   ]
  },
  {
   "cell_type": "markdown",
   "metadata": {
    "hidden": true
   },
   "source": [
    "This file is used by Heroku in order to indicate to Streamlit the $PORT on which to run"
   ]
  },
  {
   "cell_type": "markdown",
   "metadata": {
    "hidden": true
   },
   "source": [
    "mkdir -p ~/.streamlit/\n",
    "\n",
    "echo \"\\\n",
    "[general]\\n\\\n",
    "email = \\\"${HEROKU_EMAIL_ADDRESS}\\\"\\n\\\n",
    "\" > ~/.streamlit/credentials.toml\n",
    "\n",
    "echo \"\\\n",
    "[server]\\n\\\n",
    "headless = true\\n\\\n",
    "enableCORS = false\\n\\\n",
    "port = $PORT\\n\\\n",
    "\" > ~/.streamlit/config.toml\n"
   ]
  }
 ],
 "metadata": {
  "kernelspec": {
   "display_name": "Python 3",
   "language": "python",
   "name": "python3"
  },
  "language_info": {
   "codemirror_mode": {
    "name": "ipython",
    "version": 3
   },
   "file_extension": ".py",
   "mimetype": "text/x-python",
   "name": "python",
   "nbconvert_exporter": "python",
   "pygments_lexer": "ipython3",
   "version": "3.8.5"
  },
  "toc": {
   "base_numbering": 1,
   "nav_menu": {},
   "number_sections": true,
   "sideBar": true,
   "skip_h1_title": false,
   "title_cell": "Table of Contents",
   "title_sidebar": "Contents",
   "toc_cell": false,
   "toc_position": {},
   "toc_section_display": true,
   "toc_window_display": false
  },
  "varInspector": {
   "cols": {
    "lenName": 16,
    "lenType": 16,
    "lenVar": 40
   },
   "kernels_config": {
    "python": {
     "delete_cmd_postfix": "",
     "delete_cmd_prefix": "del ",
     "library": "var_list.py",
     "varRefreshCmd": "print(var_dic_list())"
    },
    "r": {
     "delete_cmd_postfix": ") ",
     "delete_cmd_prefix": "rm(",
     "library": "var_list.r",
     "varRefreshCmd": "cat(var_dic_list()) "
    }
   },
   "types_to_exclude": [
    "module",
    "function",
    "builtin_function_or_method",
    "instance",
    "_Feature"
   ],
   "window_display": false
  }
 },
 "nbformat": 4,
 "nbformat_minor": 4
}
